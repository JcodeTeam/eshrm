{
 "cells": [
  {
   "cell_type": "code",
   "execution_count": 6,
   "id": "cf2b96e9",
   "metadata": {},
   "outputs": [],
   "source": [
    "import pickle\n",
    "\n",
    "with open(\"trainer/face_encodings.pkl\", \"rb\") as f:\n",
    "    data = pickle.load(f)\n",
    "\n",
    "for encoding, name in zip(data[\"encodings\"], data[\"names\"]):\n",
    "    print(f\"Nama: {name}\")\n",
    "    print(f\"Encoding dimensi: {len(encoding)}\")\n",
    "    print(f\"Encoding contoh: {encoding[:5]} ...\") \n",
    "    print(\"-\" * 40)\n"
   ]
  }
 ],
 "metadata": {
  "kernelspec": {
   "display_name": ".venv",
   "language": "python",
   "name": "python3"
  },
  "language_info": {
   "codemirror_mode": {
    "name": "ipython",
    "version": 3
   },
   "file_extension": ".py",
   "mimetype": "text/x-python",
   "name": "python",
   "nbconvert_exporter": "python",
   "pygments_lexer": "ipython3",
   "version": "3.10.11"
  }
 },
 "nbformat": 4,
 "nbformat_minor": 5
}
