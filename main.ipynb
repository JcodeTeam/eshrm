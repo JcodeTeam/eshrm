{
 "cells": [
  {
   "cell_type": "code",
   "execution_count": 8,
   "id": "cf2b96e9",
   "metadata": {},
   "outputs": [
    {
     "name": "stdout",
     "output_type": "stream",
     "text": [
      "Nama: Johan\n",
      "Encoding dimensi: 128\n",
      "Encoding contoh: [-0.13617255  0.10456911  0.06408521  0.02175584 -0.10882541] ...\n",
      "----------------------------------------\n",
      "Nama: Iwtem\n",
      "Encoding dimensi: 128\n",
      "Encoding contoh: [-0.2284154   0.0875137   0.06816344 -0.0036808  -0.01116294] ...\n",
      "----------------------------------------\n"
     ]
    }
   ],
   "source": [
    "import pickle\n",
    "\n",
    "with open(\"trainer/face_encodings.pkl\", \"rb\") as f:\n",
    "    data = pickle.load(f)\n",
    "\n",
    "for encoding, name in zip(data[\"encodings\"], data[\"names\"]):\n",
    "    print(f\"Nama: {name}\")\n",
    "    print(f\"Encoding dimensi: {len(encoding)}\")\n",
    "    print(f\"Encoding contoh: {encoding[:5]} ...\") \n",
    "    print(\"-\" * 40)\n"
   ]
  }
 ],
 "metadata": {
  "kernelspec": {
   "display_name": ".venv",
   "language": "python",
   "name": "python3"
  },
  "language_info": {
   "codemirror_mode": {
    "name": "ipython",
    "version": 3
   },
   "file_extension": ".py",
   "mimetype": "text/x-python",
   "name": "python",
   "nbconvert_exporter": "python",
   "pygments_lexer": "ipython3",
   "version": "3.10.11"
  }
 },
 "nbformat": 4,
 "nbformat_minor": 5
}
